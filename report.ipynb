{
 "cells": [
  {
   "cell_type": "markdown",
   "metadata": {},
   "source": [
    "# Visual Object Tracking Praticals"
   ]
  },
  {
   "cell_type": "markdown",
   "metadata": {},
   "source": [
    "## TP1 - Introduction au Suivi d'Objets\n",
    "### Réalisation\n",
    "Introduction aux concepts de base du suivi d'objets.\n",
    "Mise en œuvre du suivi d'objets simple:\n",
    "* Initialisation du Filtre de Kalman.\n",
    "* Ouverture de la Source Vidéo.\n",
    "* Suivi et Prédiction: Mise à jour du Filtre de Kalman.\n",
    "* Affichage Visuel: prediction et mesure.\n",
    "* Gestion des Entrées Utilisateur et Fermeture.\n",
    "\n",
    "\n",
    "### Résultats\n",
    "Compréhension des principes fondamentaux du suivi d'objets.\n",
    "Implémentation d'un script Python pour le suivi basique (objTracker.py).\n",
    "\n"
   ]
  },
  {
   "cell_type": "markdown",
   "metadata": {},
   "source": [
    "\n",
    "## TP2 - Suivi Multi-Objets avec IoU\n",
    "### Objectifs\n",
    "Implémentation du suivi multi-objets.\n",
    "Utilisation de l'Intersection over Union (IoU) pour le suivi, notamment avec un algorithme glouton (greedy algorithm):\n",
    "\n",
    "* Initialisation des Paramètres de Suivi : seuil sigma_iou pour l'algorithme Greedy, tracks pour garder trace des id attribués aux objets suivis.\n",
    "\n",
    "* Boucle de Suivi : Calcul de la matrice de similarité, application de l'algorithme glouton, mise à jour des objets suivis.\n",
    "\n",
    "* Affichage Visuel : affichage des objets suivis, affichage des boîtes englobantes et des identifiants sur les frames pour visualiser le suivi.\n",
    "\n",
    "\n",
    "### Résultats\n",
    "Script Python pour le suivi multi-objets en utilisant l'IoU.\n",
    "Amélioration de la capacité à suivre plusieurs objets simultanément.\n",
    "\n"
   ]
  },
  {
   "cell_type": "markdown",
   "metadata": {},
   "source": [
    "## TP3 - Algorithmes Avancés de Suivi\n",
    "### Objectifs\n",
    "Exploration d'algorithme avancé: Hungarian.\n",
    "Intégration de ces algorithmes dans le suivi multi-objets.\n",
    "Le but étant l'amélioration de l'association des objets entre les frames consécutives, et donc l'amélioration du suivi.\n",
    "\n",
    "Hungarian permet de trouver une assignation qui maximise la similarité globale (ou minimise la distance) entre les objets des deux frames.\n",
    "\n",
    "* Réduction de la Matrice de Similarité.\n",
    "* Marquage des Zéros: marquage des lignes et colonnes contenant des zéros.\n",
    "* Assignation Optimale: assigner chaque élément de la ligne à un élément unique de la colonne (et vice versa) de manière à minimiser le coût total.\n",
    "\n",
    "\n",
    "### Résultats\n",
    "Script Python pour tracker Hungarian.\n",
    "Comparaison des performances de ces deux méthodes.\n"
   ]
  },
  {
   "cell_type": "markdown",
   "metadata": {},
   "source": [
    "\n",
    "\n",
    "## TP4 - Intégration du Filtre de Kalman\n",
    "### Objectifs\n",
    "Incorporation du Filtre de Kalman pour améliorer le suivi.\n",
    "Gestion des prédictions et des mises à jour des états d'objets.\n",
    "\n",
    "### Résultats\n",
    "Intégration réussie du Filtre de Kalman dans le système de suivi.\n",
    "Amélioration significative de la précision et de la fluidité du suivi.\n"
   ]
  },
  {
   "cell_type": "markdown",
   "metadata": {},
   "source": [
    "\n",
    "## TP5 - Fusion des Caractéristiques Visuelles et du Suivi\n",
    "### Objectifs\n",
    "Extraction de caractéristiques visuelles à l'aide de CNN (ResNet50).\n",
    "Fusion des caractéristiques visuelles et géométriques pour un suivi robuste.\n",
    "\n",
    "### Résultats\n",
    "Utilisation de ResNet50 pour extraire des caractéristiques visuelles.\n",
    "Combinaison de l'information visuelle et des prédictions du Filtre de Kalman pour un suivi plus précis.\n",
    "Création d'un script Python intégrant ces fonctionnalités avancée"
   ]
  }
 ],
 "metadata": {
  "language_info": {
   "name": "python"
  }
 },
 "nbformat": 4,
 "nbformat_minor": 2
}
